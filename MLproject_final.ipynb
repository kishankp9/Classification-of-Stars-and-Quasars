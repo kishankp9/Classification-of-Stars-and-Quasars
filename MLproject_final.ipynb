{
 "cells": [
  {
   "cell_type": "code",
   "execution_count": 1,
   "metadata": {},
   "outputs": [
    {
     "name": "stdout",
     "output_type": "stream",
     "text": [
      "Requirement already satisfied: tabulate in c:\\users\\madhav\\anaconda3\\lib\\site-packages (0.8.6)\n",
      "Note: you may need to restart the kernel to use updated packages.\n"
     ]
    }
   ],
   "source": [
    "pip install tabulate"
   ]
  },
  {
   "cell_type": "code",
   "execution_count": 2,
   "metadata": {},
   "outputs": [],
   "source": [
    "import pandas as pd\n",
    "import numpy as np\n",
    "from random import randrange\n",
    "from tabulate import tabulate"
   ]
  },
  {
   "cell_type": "code",
   "execution_count": 3,
   "metadata": {},
   "outputs": [],
   "source": [
    "#common function for data preprocessing of all the catalogs. Drop some columns and convert continuous data into categorical. \n",
    "def read(path):\n",
    "    df = pd.read_csv(path)\n",
    "    cols = df.columns\n",
    "    colstodrop = ['Unnamed: 0','Unnamed: 0.1','galex_objid','sdss_objid','pred']\n",
    "    for i in colstodrop:\n",
    "        if i in df.columns:\n",
    "            df=df.drop(i,axis=1)\n",
    "    cl = df['class']\n",
    "    redshift = df['spectrometric_redshift']\n",
    "    df=df.drop(['class','spectrometric_redshift'],axis=1)\n",
    "    df=df.join(cl).join(redshift)\n",
    "    #df=df.join(redshift)\n",
    "    for col in df:\n",
    "        if col == 'class':\n",
    "            continue\n",
    "        df[col] = pd.cut(df[col],100,labels=False)\n",
    "    return df"
   ]
  },
  {
   "cell_type": "code",
   "execution_count": 4,
   "metadata": {},
   "outputs": [
    {
     "data": {
      "text/html": [
       "<div>\n",
       "<style scoped>\n",
       "    .dataframe tbody tr th:only-of-type {\n",
       "        vertical-align: middle;\n",
       "    }\n",
       "\n",
       "    .dataframe tbody tr th {\n",
       "        vertical-align: top;\n",
       "    }\n",
       "\n",
       "    .dataframe thead th {\n",
       "        text-align: right;\n",
       "    }\n",
       "</style>\n",
       "<table border=\"1\" class=\"dataframe\">\n",
       "  <thead>\n",
       "    <tr style=\"text-align: right;\">\n",
       "      <th></th>\n",
       "      <th>u</th>\n",
       "      <th>g</th>\n",
       "      <th>r</th>\n",
       "      <th>i</th>\n",
       "      <th>z</th>\n",
       "      <th>extinction_u</th>\n",
       "      <th>extinction_g</th>\n",
       "      <th>extinction_r</th>\n",
       "      <th>extinction_i</th>\n",
       "      <th>extinction_z</th>\n",
       "      <th>...</th>\n",
       "      <th>r-z</th>\n",
       "      <th>i-z</th>\n",
       "      <th>fuv-nuv</th>\n",
       "      <th>fuv-u</th>\n",
       "      <th>fuv-g</th>\n",
       "      <th>fuv-r</th>\n",
       "      <th>fuv-i</th>\n",
       "      <th>fuv-z</th>\n",
       "      <th>class</th>\n",
       "      <th>spectrometric_redshift</th>\n",
       "    </tr>\n",
       "  </thead>\n",
       "  <tbody>\n",
       "    <tr>\n",
       "      <th>0</th>\n",
       "      <td>29</td>\n",
       "      <td>21</td>\n",
       "      <td>22</td>\n",
       "      <td>21</td>\n",
       "      <td>19</td>\n",
       "      <td>35</td>\n",
       "      <td>35</td>\n",
       "      <td>35</td>\n",
       "      <td>35</td>\n",
       "      <td>35</td>\n",
       "      <td>...</td>\n",
       "      <td>53</td>\n",
       "      <td>45</td>\n",
       "      <td>31</td>\n",
       "      <td>6</td>\n",
       "      <td>0</td>\n",
       "      <td>0</td>\n",
       "      <td>0</td>\n",
       "      <td>0</td>\n",
       "      <td>0</td>\n",
       "      <td>0</td>\n",
       "    </tr>\n",
       "    <tr>\n",
       "      <th>1</th>\n",
       "      <td>82</td>\n",
       "      <td>88</td>\n",
       "      <td>76</td>\n",
       "      <td>62</td>\n",
       "      <td>53</td>\n",
       "      <td>41</td>\n",
       "      <td>41</td>\n",
       "      <td>41</td>\n",
       "      <td>41</td>\n",
       "      <td>41</td>\n",
       "      <td>...</td>\n",
       "      <td>79</td>\n",
       "      <td>54</td>\n",
       "      <td>67</td>\n",
       "      <td>68</td>\n",
       "      <td>62</td>\n",
       "      <td>45</td>\n",
       "      <td>34</td>\n",
       "      <td>29</td>\n",
       "      <td>1</td>\n",
       "      <td>32</td>\n",
       "    </tr>\n",
       "    <tr>\n",
       "      <th>2</th>\n",
       "      <td>64</td>\n",
       "      <td>83</td>\n",
       "      <td>89</td>\n",
       "      <td>85</td>\n",
       "      <td>80</td>\n",
       "      <td>30</td>\n",
       "      <td>30</td>\n",
       "      <td>30</td>\n",
       "      <td>30</td>\n",
       "      <td>30</td>\n",
       "      <td>...</td>\n",
       "      <td>39</td>\n",
       "      <td>33</td>\n",
       "      <td>51</td>\n",
       "      <td>30</td>\n",
       "      <td>42</td>\n",
       "      <td>44</td>\n",
       "      <td>43</td>\n",
       "      <td>44</td>\n",
       "      <td>1</td>\n",
       "      <td>26</td>\n",
       "    </tr>\n",
       "    <tr>\n",
       "      <th>3</th>\n",
       "      <td>71</td>\n",
       "      <td>90</td>\n",
       "      <td>95</td>\n",
       "      <td>91</td>\n",
       "      <td>82</td>\n",
       "      <td>23</td>\n",
       "      <td>23</td>\n",
       "      <td>23</td>\n",
       "      <td>23</td>\n",
       "      <td>23</td>\n",
       "      <td>...</td>\n",
       "      <td>47</td>\n",
       "      <td>46</td>\n",
       "      <td>55</td>\n",
       "      <td>55</td>\n",
       "      <td>66</td>\n",
       "      <td>64</td>\n",
       "      <td>63</td>\n",
       "      <td>58</td>\n",
       "      <td>1</td>\n",
       "      <td>13</td>\n",
       "    </tr>\n",
       "    <tr>\n",
       "      <th>4</th>\n",
       "      <td>83</td>\n",
       "      <td>96</td>\n",
       "      <td>96</td>\n",
       "      <td>86</td>\n",
       "      <td>76</td>\n",
       "      <td>10</td>\n",
       "      <td>10</td>\n",
       "      <td>10</td>\n",
       "      <td>10</td>\n",
       "      <td>10</td>\n",
       "      <td>...</td>\n",
       "      <td>66</td>\n",
       "      <td>52</td>\n",
       "      <td>58</td>\n",
       "      <td>49</td>\n",
       "      <td>50</td>\n",
       "      <td>47</td>\n",
       "      <td>41</td>\n",
       "      <td>36</td>\n",
       "      <td>1</td>\n",
       "      <td>25</td>\n",
       "    </tr>\n",
       "  </tbody>\n",
       "</table>\n",
       "<p>5 rows × 35 columns</p>\n",
       "</div>"
      ],
      "text/plain": [
       "    u   g   r   i   z  extinction_u  extinction_g  extinction_r  extinction_i  \\\n",
       "0  29  21  22  21  19            35            35            35            35   \n",
       "1  82  88  76  62  53            41            41            41            41   \n",
       "2  64  83  89  85  80            30            30            30            30   \n",
       "3  71  90  95  91  82            23            23            23            23   \n",
       "4  83  96  96  86  76            10            10            10            10   \n",
       "\n",
       "   extinction_z  ...  r-z  i-z  fuv-nuv  fuv-u  fuv-g  fuv-r  fuv-i  fuv-z  \\\n",
       "0            35  ...   53   45       31      6      0      0      0      0   \n",
       "1            41  ...   79   54       67     68     62     45     34     29   \n",
       "2            30  ...   39   33       51     30     42     44     43     44   \n",
       "3            23  ...   47   46       55     55     66     64     63     58   \n",
       "4            10  ...   66   52       58     49     50     47     41     36   \n",
       "\n",
       "   class  spectrometric_redshift  \n",
       "0      0                       0  \n",
       "1      1                      32  \n",
       "2      1                      26  \n",
       "3      1                      13  \n",
       "4      1                      25  \n",
       "\n",
       "[5 rows x 35 columns]"
      ]
     },
     "execution_count": 4,
     "metadata": {},
     "output_type": "execute_result"
    }
   ],
   "source": [
    "df = read('F:/Study/5th sem/ML/MiniProject1_SectionE_G/catalog1/cat1.csv')\n",
    "df.head()"
   ]
  },
  {
   "cell_type": "code",
   "execution_count": 5,
   "metadata": {},
   "outputs": [],
   "source": [
    "# Split a dataset into a train and test set\n",
    "def train_test_split(df, split):\n",
    "    df = np.array(df)\n",
    "    train = list()\n",
    "    train_size = split * len(df)\n",
    "    test = list(df)\n",
    "    while len(train) < train_size:\n",
    "        index = randrange(len(test))\n",
    "        train.append(test.pop(index))\n",
    "    return train, test"
   ]
  },
  {
   "cell_type": "code",
   "execution_count": 6,
   "metadata": {},
   "outputs": [],
   "source": [
    "#over-sample the minority class in training data\n",
    "def upsample(train):\n",
    "    class1=[]\n",
    "    class0init=[]\n",
    "    class0up=[]\n",
    "    for i in train:\n",
    "        if i[-2] == 1:\n",
    "            class1.append(i)\n",
    "        else:\n",
    "            class0init.append(i)\n",
    "    class0up=class0init\n",
    "    while(len(class0up)<len(class1)):\n",
    "        index = randrange(len(class0init))\n",
    "        class0up.append(class0init[index])\n",
    "    return class1+class0up"
   ]
  },
  {
   "cell_type": "code",
   "execution_count": 7,
   "metadata": {},
   "outputs": [],
   "source": [
    "cols = df.columns\n",
    "train,test = train_test_split(df,0.8)\n",
    "train=upsample(train)\n",
    "gains = []"
   ]
  },
  {
   "cell_type": "code",
   "execution_count": 8,
   "metadata": {},
   "outputs": [],
   "source": [
    "#Finds distinct values for an attribute\n",
    "def distinct(df, col):\n",
    "    l=set()\n",
    "    for row in df:\n",
    "        l.add(row[col])\n",
    "    return list(l)"
   ]
  },
  {
   "cell_type": "code",
   "execution_count": 9,
   "metadata": {},
   "outputs": [],
   "source": [
    "#counts the number of rows in each level/class in the dataframe\n",
    "def count_level(df):\n",
    "    counts = [0,0]\n",
    "    for row in df:\n",
    "        level = row[-2]\n",
    "        counts[level] += 1\n",
    "    return counts"
   ]
  },
  {
   "cell_type": "code",
   "execution_count": 10,
   "metadata": {},
   "outputs": [
    {
     "data": {
      "text/plain": [
       "[472, 472]"
      ]
     },
     "execution_count": 10,
     "metadata": {},
     "output_type": "execute_result"
    }
   ],
   "source": [
    "count_level(train)"
   ]
  },
  {
   "cell_type": "code",
   "execution_count": 11,
   "metadata": {},
   "outputs": [],
   "source": [
    "#Query objects can be used to split the dataframe on the basis of the outcome of the query\n",
    "class Query:\n",
    "    def __init__(self, column, value):\n",
    "        self.column = column\n",
    "        self.value = value\n",
    "\n",
    "    def check(self, row):\n",
    "        ans = row[self.column]\n",
    "        return ans >= self.value"
   ]
  },
  {
   "cell_type": "code",
   "execution_count": 12,
   "metadata": {},
   "outputs": [],
   "source": [
    "q = Query(1, 20)"
   ]
  },
  {
   "cell_type": "code",
   "execution_count": 13,
   "metadata": {},
   "outputs": [
    {
     "data": {
      "text/plain": [
       "True"
      ]
     },
     "execution_count": 13,
     "metadata": {},
     "output_type": "execute_result"
    }
   ],
   "source": [
    "example = train[10]\n",
    "q.check(example)"
   ]
  },
  {
   "cell_type": "code",
   "execution_count": 14,
   "metadata": {},
   "outputs": [],
   "source": [
    "#divide/partition the dataframe into true and false branches based on the outcome of the query\n",
    "def divide(df, query):\n",
    "    true_branch = []\n",
    "    false_branch = []\n",
    "    for row in df:\n",
    "        if query.check(row):\n",
    "            true_branch.append(row)\n",
    "        else:\n",
    "            false_branch.append(row)     \n",
    "    return true_branch, false_branch"
   ]
  },
  {
   "cell_type": "code",
   "execution_count": 15,
   "metadata": {},
   "outputs": [],
   "source": [
    "#gini impurity = 1-sum(p^2)\n",
    "def gini_impurity(rows):\n",
    "    counts = count_level(rows)\n",
    "    gini = 1\n",
    "    for ele in counts:\n",
    "        prob = ele / float(len(rows))\n",
    "        gini -= pow(prob,2)\n",
    "    return gini"
   ]
  },
  {
   "cell_type": "code",
   "execution_count": 16,
   "metadata": {},
   "outputs": [
    {
     "data": {
      "text/plain": [
       "0.5"
      ]
     },
     "execution_count": 16,
     "metadata": {},
     "output_type": "execute_result"
    }
   ],
   "source": [
    "gini_impurity(train)"
   ]
  },
  {
   "cell_type": "code",
   "execution_count": 17,
   "metadata": {},
   "outputs": [],
   "source": [
    "def information_gain(lbranch, rbranch, initgini):\n",
    "    prob = float(len(lbranch)) / (len(lbranch) + len(rbranch))\n",
    "    return initgini - prob * gini_impurity(lbranch) - (1 - prob) * gini_impurity(rbranch)"
   ]
  },
  {
   "cell_type": "code",
   "execution_count": 18,
   "metadata": {},
   "outputs": [
    {
     "data": {
      "text/plain": [
       "0.5"
      ]
     },
     "execution_count": 18,
     "metadata": {},
     "output_type": "execute_result"
    }
   ],
   "source": [
    "current_uncertainty = gini_impurity(train)\n",
    "current_uncertainty"
   ]
  },
  {
   "cell_type": "code",
   "execution_count": 19,
   "metadata": {},
   "outputs": [],
   "source": [
    "#Find the best query to ask by iterating over every feature / value and calculating the information gain.\n",
    "def best_query(df,cols):\n",
    "    bestgain = 0  \n",
    "    bestquery = None  \n",
    "    initgini = gini_impurity(df)\n",
    "    length = len(cols)-2\n",
    "    for element in range(length): \n",
    "        distinctval = distinct(df,element) \n",
    "        for val in distinctval:\n",
    "            q = Query(element, val)\n",
    "            # try partitioning the dataset\n",
    "            tbranch, fbranch = divide(df, q)\n",
    "            # Skip this split if it doesn't divide the dataset.\n",
    "            if ((len(tbranch) == 0) or (len(fbranch)) == 0):\n",
    "                continue\n",
    "            # Calculate the information gain from this split\n",
    "            gain = information_gain(tbranch, fbranch, initgini)\n",
    "            if gain >= bestgain:\n",
    "                bestgain, bestquery = gain, q\n",
    "    return bestgain, bestquery"
   ]
  },
  {
   "cell_type": "code",
   "execution_count": 20,
   "metadata": {},
   "outputs": [],
   "source": [
    "#The final decision tree consists of nodes and leaves. Nodes split the data on the best query and leaves contain the predicted\n",
    "#values\n",
    "class Leaf:\n",
    "    def __init__(self, df):\n",
    "        l = count_level(df)\n",
    "        self.pred = l.index(max(l))"
   ]
  },
  {
   "cell_type": "code",
   "execution_count": 21,
   "metadata": {},
   "outputs": [],
   "source": [
    "class Node:\n",
    "    def __init__(self,query,tbranch,fbranch):\n",
    "        self.query = query\n",
    "        self.tbranch = tbranch\n",
    "        self.fbranch = fbranch"
   ]
  },
  {
   "cell_type": "code",
   "execution_count": 22,
   "metadata": {},
   "outputs": [],
   "source": [
    "#recursively builds the decison tree\n",
    "def build_tree(rows):\n",
    "    gain, query = best_query(rows,cols)\n",
    "    gains.append(gain)\n",
    "    # Base case: no further info gain. Since we can ask no further questions, we'll return a leaf.\n",
    "    if gain == 0:\n",
    "        return Leaf(rows)\n",
    "    true_rows, false_rows = divide(rows, query)\n",
    "    # Recursively build the true branch.\n",
    "    true_branch = build_tree(true_rows)\n",
    "    # Recursively build the false branch.\n",
    "    false_branch = build_tree(false_rows)\n",
    "    return Node(query, true_branch, false_branch)"
   ]
  },
  {
   "cell_type": "code",
   "execution_count": 23,
   "metadata": {},
   "outputs": [],
   "source": [
    "mytree = build_tree(train)"
   ]
  },
  {
   "cell_type": "code",
   "execution_count": 24,
   "metadata": {},
   "outputs": [],
   "source": [
    "#traverse the tree until we reach a leaf\n",
    "def predict(row, node):\n",
    "    # Base case: we've reached a leaf. Return the prediction. \n",
    "    if isinstance(node, Leaf):\n",
    "        return node.pred\n",
    "    if node.query.check(row):\n",
    "        return predict(row, node.tbranch)\n",
    "    else:\n",
    "        return predict(row, node.fbranch)"
   ]
  },
  {
   "cell_type": "code",
   "execution_count": 25,
   "metadata": {},
   "outputs": [],
   "source": [
    "actual = []\n",
    "pred = []\n",
    "red1 = []\n",
    "red2 = []\n",
    "red3 = []\n",
    "pred1 = []\n",
    "pred2 = []\n",
    "pred3 = []\n",
    "for i in test:\n",
    "    p = predict(i,mytree)\n",
    "    actual.append(i[-2])\n",
    "    pred.append(p)\n",
    "    if i[-1]<=0.0033:\n",
    "        red1.append(0)\n",
    "        pred1.append(p)\n",
    "    elif i[-1]>=0.004:\n",
    "        red2.append(1)\n",
    "        pred2.append(p)\n",
    "    else:\n",
    "        red3.append(i[-2])\n",
    "        pred3.append(p)"
   ]
  },
  {
   "cell_type": "code",
   "execution_count": 26,
   "metadata": {},
   "outputs": [],
   "source": [
    "def confusion_matrix(actual,pred):\n",
    "    tp=0\n",
    "    fn=0\n",
    "    fp=0\n",
    "    tn=0\n",
    "    for i in range(len(actual)):\n",
    "        if(actual[i]==0 and pred[i]==0):\n",
    "            tp += 1\n",
    "        elif(actual[i]==0 and pred[i]==1):\n",
    "            fn += 1\n",
    "        elif(actual[i]==1 and pred[i]==0):\n",
    "            fp += 1\n",
    "        elif(actual[i]==1 and pred[i]==1):\n",
    "            tn += 1\n",
    "    conf = [[tp,fn],[fp,tn]]\n",
    "    return conf"
   ]
  },
  {
   "cell_type": "code",
   "execution_count": 27,
   "metadata": {},
   "outputs": [],
   "source": [
    "def metrics(conf):\n",
    "    tp=conf[0][0]\n",
    "    fn=conf[0][1]\n",
    "    fp=conf[1][0]\n",
    "    tn=conf[1][1]\n",
    "    acc = (tp+tn)/(tp+tn+fp+fn)\n",
    "    srec = tp/(tp+fn)\n",
    "    sprec = tp/(tp+fp)\n",
    "    sfscore = (2*srec*sprec)/(srec+sprec)\n",
    "    qrec = tn/(tn+fp)\n",
    "    qprec = tn/(tn+fn)\n",
    "    qfscore = (2*qrec*qprec)/(qrec+qprec)\n",
    "    print(\"Classification Report: \\n\\n\")\n",
    "    print(\"Overall accuracy ->\",acc)\n",
    "    print()\n",
    "    ab=[['Stars',sprec,srec,sfscore],['Quasars',qprec,qrec,qfscore]]\n",
    "    print(tabulate(ab,headers=['','Precision','Recall','F1-score'],tablefmt='orgtbl'))"
   ]
  },
  {
   "cell_type": "code",
   "execution_count": 28,
   "metadata": {},
   "outputs": [],
   "source": [
    "def printconf(conf):\n",
    "    ab = [['Actual Star',conf[0][0],conf[0][1]],['Actual Quasar',conf[1][0],conf[1][1]]]\n",
    "    print(tabulate(ab,headers=['','Predicted Star','Predicted Quasar'],tablefmt='orgtbl'))"
   ]
  },
  {
   "cell_type": "code",
   "execution_count": 29,
   "metadata": {
    "scrolled": true
   },
   "outputs": [
    {
     "name": "stdout",
     "output_type": "stream",
     "text": [
      "|               |   Predicted Star |   Predicted Quasar |\n",
      "|---------------+------------------+--------------------|\n",
      "| Actual Star   |                5 |                  1 |\n",
      "| Actual Quasar |                5 |                118 |\n"
     ]
    }
   ],
   "source": [
    "conf = confusion_matrix(actual,pred)\n",
    "printconf(conf)"
   ]
  },
  {
   "cell_type": "code",
   "execution_count": 30,
   "metadata": {},
   "outputs": [
    {
     "name": "stdout",
     "output_type": "stream",
     "text": [
      "Classification Report: \n",
      "\n",
      "\n",
      "Overall accuracy -> 0.9534883720930233\n",
      "\n",
      "|         |   Precision |   Recall |   F1-score |\n",
      "|---------+-------------+----------+------------|\n",
      "| Stars   |    0.5      | 0.833333 |   0.625    |\n",
      "| Quasars |    0.991597 | 0.95935  |   0.975207 |\n"
     ]
    }
   ],
   "source": [
    "metrics(conf)"
   ]
  },
  {
   "cell_type": "code",
   "execution_count": 31,
   "metadata": {},
   "outputs": [],
   "source": [
    "import sklearn.metrics as smetrics\n",
    "# calculate the fpr and tpr for all thresholds of the classification\n",
    "fpr, tpr, threshold = smetrics.roc_curve(actual, pred)\n",
    "roc_auc = smetrics.auc(fpr, tpr)"
   ]
  },
  {
   "cell_type": "code",
   "execution_count": 32,
   "metadata": {},
   "outputs": [
    {
     "data": {
      "text/plain": [
       "<Figure size 640x480 with 1 Axes>"
      ]
     },
     "metadata": {},
     "output_type": "display_data"
    }
   ],
   "source": [
    "#plot the roc curve\n",
    "import matplotlib.pyplot as plt\n",
    "plt.title('Receiver Operating Characteristic')\n",
    "plt.plot(fpr, tpr, 'b', label = 'AUC = %0.2f' % roc_auc)\n",
    "plt.legend(loc = 'lower right')\n",
    "plt.plot([0, 1], [0, 1],'r--')\n",
    "plt.xlim([0, 1])\n",
    "plt.ylim([0, 1])\n",
    "plt.ylabel('True Positive Rate')\n",
    "plt.xlabel('False Positive Rate')\n",
    "plt.show()"
   ]
  },
  {
   "cell_type": "code",
   "execution_count": 33,
   "metadata": {},
   "outputs": [],
   "source": [
    "#confusion matrix for redshift range 1 (z<=0.0033)\n",
    "conf2 = confusion_matrix(red1,pred1)\n",
    "#confusion matrix for redshift range 2 (z>=0.004)\n",
    "conf3 = confusion_matrix(red2,pred2)\n",
    "#confusion matrix for redshift range 3 (0.0033<z<0.004)\n",
    "conf4 = confusion_matrix(red3,pred3)"
   ]
  },
  {
   "cell_type": "code",
   "execution_count": 34,
   "metadata": {},
   "outputs": [
    {
     "name": "stdout",
     "output_type": "stream",
     "text": [
      "|               |   Predicted Star |   Predicted Quasar |\n",
      "|---------------+------------------+--------------------|\n",
      "| Actual Star   |                6 |                  1 |\n",
      "| Actual Quasar |                0 |                  0 |\n"
     ]
    }
   ],
   "source": [
    "printconf(conf2)"
   ]
  },
  {
   "cell_type": "code",
   "execution_count": 35,
   "metadata": {},
   "outputs": [
    {
     "name": "stdout",
     "output_type": "stream",
     "text": [
      "|               |   Predicted Star |   Predicted Quasar |\n",
      "|---------------+------------------+--------------------|\n",
      "| Actual Star   |                0 |                  0 |\n",
      "| Actual Quasar |                4 |                118 |\n"
     ]
    }
   ],
   "source": [
    "printconf(conf3)"
   ]
  },
  {
   "cell_type": "code",
   "execution_count": 36,
   "metadata": {},
   "outputs": [
    {
     "name": "stdout",
     "output_type": "stream",
     "text": [
      "|               |   Predicted Star |   Predicted Quasar |\n",
      "|---------------+------------------+--------------------|\n",
      "| Actual Star   |                0 |                  0 |\n",
      "| Actual Quasar |                0 |                  0 |\n"
     ]
    }
   ],
   "source": [
    "printconf(conf4)"
   ]
  },
  {
   "cell_type": "code",
   "execution_count": 37,
   "metadata": {},
   "outputs": [
    {
     "name": "stdout",
     "output_type": "stream",
     "text": [
      "0\n"
     ]
    }
   ],
   "source": [
    "#checking if there were any datapoints in the overlapping region of redshift.\n",
    "print((len(red1)+len(red2))-len(test))"
   ]
  },
  {
   "cell_type": "code",
   "execution_count": 38,
   "metadata": {},
   "outputs": [
    {
     "name": "stdout",
     "output_type": "stream",
     "text": [
      "[0.17856749657916665, 0.2413124971671618, 0.10372148859543814, 0.07232555671131699, 0.0, 0.03434830065113463, 0.0, 0.02406645569620269, 0.012418392038675757, 0.0004088167096808048, 0.0, 0.07396449704142012, 0, 0, 0, 0, 0.0, 0.02367115429203699, 0.012761924547173335, 0.5, 0.0, 0.0, 0.00878419355868366, 0.48, 0.0, 0.0, 0.0, 0.17959183673469392, 0.3756521739130435, 0.22684310018903586, 0, 0.0, 0.0, 0.0, 0.05696142340517685, 0.16528925619834722, 0, 0.0, 0.020599989291120974, 0.0, 0.007040361467329795, 0, 0.0009242349183345364, 0.0, 0.13265306122448978, 0.0, 0.0]\n"
     ]
    }
   ],
   "source": [
    "print(gains)"
   ]
  },
  {
   "cell_type": "code",
   "execution_count": 39,
   "metadata": {},
   "outputs": [
    {
     "data": {
      "text/plain": [
       "Text(0, 0.5, 'Information gain')"
      ]
     },
     "execution_count": 39,
     "metadata": {},
     "output_type": "execute_result"
    },
    {
     "data": {
      "image/png": "[encoded data removed]",
      "text/plain": [
       "<Figure size 432x288 with 1 Axes>"
      ]
     },
     "metadata": {
      "needs_background": "light"
     },
     "output_type": "display_data"
    }
   ],
   "source": [
    "x=range(1,len(gains)+1)\n",
    "fig = plt.figure()\n",
    "#plt.axis([0.45, 0.95, 0.85, 0.98])\n",
    "plt.plot(x,gains, marker='o', color='b')\n",
    "fig.suptitle('Information gain vs Number of iterations', fontsize=18)\n",
    "plt.xlabel('Iterations', fontsize=16)\n",
    "plt.ylabel('Information gain', fontsize=16)"
   ]
  },
  {
   "cell_type": "code",
   "execution_count": 40,
   "metadata": {},
   "outputs": [
    {
     "name": "stdout",
     "output_type": "stream",
     "text": [
      "total number of iterations =  47\n"
     ]
    }
   ],
   "source": [
    "print(\"total number of iterations = \",len(gains))"
   ]
  },
  {
   "cell_type": "code",
   "execution_count": null,
   "metadata": {},
   "outputs": [],
   "source": []
  }
 ],
 "metadata": {
  "kernelspec": {
   "display_name": "Python 3",
   "language": "python",
   "name": "python3"
  },
  "language_info": {
   "codemirror_mode": {
    "name": "ipython",
    "version": 3
   },
   "file_extension": ".py",
   "mimetype": "text/x-python",
   "name": "python",
   "nbconvert_exporter": "python",
   "pygments_lexer": "ipython3",
   "version": "3.7.3"
  }
 },
 "nbformat": 4,
 "nbformat_minor": 2
}
